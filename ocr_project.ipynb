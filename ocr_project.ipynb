{
 "metadata": {
  "language_info": {
   "codemirror_mode": {
    "name": "ipython",
    "version": 3
   },
   "file_extension": ".py",
   "mimetype": "text/x-python",
   "name": "python",
   "nbconvert_exporter": "python",
   "pygments_lexer": "ipython3",
   "version": 3
  },
  "orig_nbformat": 2
 },
 "nbformat": 4,
 "nbformat_minor": 2,
 "cells": [
  {
   "source": [
    "<br>\n",
    "\n",
    "# OCR 모델 비교 <br>\n",
    "---\n",
    "<br>\n",
    "\n",
    "다양한 이미지들에 대하여 각 이미지 특성에 따라 <br>\n",
    "Google OCR API, Keras-OCR, Tesseract OCR 각 모델의 성능을 평가, 분석해 봅시다.\n",
    "\n",
    "<br>"
   ],
   "cell_type": "markdown",
   "metadata": {}
  },
  {
   "source": [
    "<br>\n",
    "\n",
    "## 특성별 OCR 분석 대상 이미지 준비 <br><br>\n",
    "\n",
    "노이즈가 없는 텍스트 이미지 <br>\n",
    "표면이 왜곡된 텍스트 이미지 <br>\n",
    "불규칙 배치된 텍스트 이미지\n",
    "화이트 노이즈가 있는 이미지 <br>\n",
    "여러 대상이 혼재하는 이미지 <br>\n",
    "\n",
    "\n",
    "<br>"
   ],
   "cell_type": "markdown",
   "metadata": {}
  }
 ]
}